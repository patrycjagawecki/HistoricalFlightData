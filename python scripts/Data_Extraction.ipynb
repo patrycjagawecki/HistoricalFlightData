{
  "nbformat": 4,
  "nbformat_minor": 0,
  "metadata": {
    "colab": {
      "provenance": []
    },
    "kernelspec": {
      "name": "python3",
      "display_name": "Python 3"
    },
    "language_info": {
      "name": "python"
    }
  },
  "cells": [
    {
      "cell_type": "markdown",
      "source": [
        "# **Import Libraries**"
      ],
      "metadata": {
        "id": "70iHgbj8K_Kj"
      }
    },
    {
      "cell_type": "code",
      "source": [
        "!pip install azure-storage-blob"
      ],
      "metadata": {
        "colab": {
          "base_uri": "https://localhost:8080/"
        },
        "id": "5W_lXkjLcJd1",
        "outputId": "33d216c1-a6c7-4a87-90ea-98070f1b6c5e"
      },
      "execution_count": null,
      "outputs": [
        {
          "output_type": "stream",
          "name": "stdout",
          "text": [
            "Requirement already satisfied: azure-storage-blob in /usr/local/lib/python3.11/dist-packages (12.25.1)\n",
            "Requirement already satisfied: azure-core>=1.30.0 in /usr/local/lib/python3.11/dist-packages (from azure-storage-blob) (1.34.0)\n",
            "Requirement already satisfied: cryptography>=2.1.4 in /usr/local/lib/python3.11/dist-packages (from azure-storage-blob) (43.0.3)\n",
            "Requirement already satisfied: typing-extensions>=4.6.0 in /usr/local/lib/python3.11/dist-packages (from azure-storage-blob) (4.13.2)\n",
            "Requirement already satisfied: isodate>=0.6.1 in /usr/local/lib/python3.11/dist-packages (from azure-storage-blob) (0.7.2)\n",
            "Requirement already satisfied: requests>=2.21.0 in /usr/local/lib/python3.11/dist-packages (from azure-core>=1.30.0->azure-storage-blob) (2.32.3)\n",
            "Requirement already satisfied: six>=1.11.0 in /usr/local/lib/python3.11/dist-packages (from azure-core>=1.30.0->azure-storage-blob) (1.17.0)\n",
            "Requirement already satisfied: cffi>=1.12 in /usr/local/lib/python3.11/dist-packages (from cryptography>=2.1.4->azure-storage-blob) (1.17.1)\n",
            "Requirement already satisfied: pycparser in /usr/local/lib/python3.11/dist-packages (from cffi>=1.12->cryptography>=2.1.4->azure-storage-blob) (2.22)\n",
            "Requirement already satisfied: charset-normalizer<4,>=2 in /usr/local/lib/python3.11/dist-packages (from requests>=2.21.0->azure-core>=1.30.0->azure-storage-blob) (3.4.1)\n",
            "Requirement already satisfied: idna<4,>=2.5 in /usr/local/lib/python3.11/dist-packages (from requests>=2.21.0->azure-core>=1.30.0->azure-storage-blob) (3.10)\n",
            "Requirement already satisfied: urllib3<3,>=1.21.1 in /usr/local/lib/python3.11/dist-packages (from requests>=2.21.0->azure-core>=1.30.0->azure-storage-blob) (2.4.0)\n",
            "Requirement already satisfied: certifi>=2017.4.17 in /usr/local/lib/python3.11/dist-packages (from requests>=2.21.0->azure-core>=1.30.0->azure-storage-blob) (2025.4.26)\n"
          ]
        }
      ]
    },
    {
      "cell_type": "code",
      "source": [
        "import pandas as pd\n",
        "import numpy as np\n",
        "import matplotlib.pyplot as plt\n",
        "import seaborn as sns\n",
        "import statsmodels.api as sm\n",
        "from bs4 import BeautifulSoup\n",
        "import os\n",
        "import re\n",
        "import requests\n",
        "from azure.storage.blob import BlobServiceClient\n",
        "import json\n",
        "import io\n",
        "import warnings\n",
        "warnings.filterwarnings('ignore')\n",
        "from sqlalchemy import create_engine"
      ],
      "metadata": {
        "id": "Pyrx0rSQcMlb"
      },
      "execution_count": null,
      "outputs": []
    },
    {
      "cell_type": "markdown",
      "source": [
        "# **Data Extraction**"
      ],
      "metadata": {
        "id": "iRYKKXcSLHEH"
      }
    },
    {
      "cell_type": "code",
      "source": [
        "def load_config_azure_professor(config_path=\"config.json\"):\n",
        "    \"\"\"Load the Azure configuration parameters from the config.json file.\"\"\"\n",
        "    with open(config_path, \"r\", encoding=\"utf-8\") as config_file:\n",
        "        config = json.load(config_file)\n",
        "    return config[\"AZURE_CONNECTION_STRING\"], config[\"CONTAINER_NAME\"]\n",
        "\n",
        "\n",
        "def load_config_azure_pat(config_path=\"config.json\"):\n",
        "    \"\"\"Load the Azure configuration parameters from the config.json file.\"\"\"\n",
        "    with open(config_path, \"r\", encoding=\"utf-8\") as config_file:\n",
        "        config = json.load(config_file)\n",
        "    return config[\"AZURE_CONNECTION_STRING_PAT\"], config[\"CONTAINER_NAME_PAT\"]\n",
        "\n",
        "\n",
        "AZURE_CONNECTION_STRING, CONTAINER_NAME = load_config_azure_professor()\n",
        "AZURE_CONNECTION_STRING_PAT, CONTAINER_NAME_PAT = load_config_azure_pat()\n",
        "\n",
        "blob_service_client = BlobServiceClient.from_connection_string(AZURE_CONNECTION_STRING)\n",
        "container_client = blob_service_client.get_container_client(CONTAINER_NAME)\n",
        "folder_name = 'flights/'\n",
        "\n",
        "blob_service_client_pat = BlobServiceClient.from_connection_string(AZURE_CONNECTION_STRING_PAT)\n",
        "container_client_pat = blob_service_client_pat.get_container_client(CONTAINER_NAME_PAT)\n",
        "folder_name_pat = 'flights'"
      ],
      "metadata": {
        "id": "TQA2Tpq-cQdA"
      },
      "execution_count": null,
      "outputs": []
    },
    {
      "cell_type": "code",
      "source": [
        "for blob in container_client.list_blobs(name_starts_with=folder_name):\n",
        "    # Create a blob client for the destination\n",
        "    blob_client = blob_service_client_pat.get_blob_client(container=CONTAINER_NAME_PAT,blob=folder_name_pat + blob.name)\n",
        "\n",
        "    # Read the source blob and upload to the new storage\n",
        "    source_blob_data = container_client.download_blob(blob.name).readall()\n",
        "    blob_client.upload_blob(source_blob_data, overwrite=True)"
      ],
      "metadata": {
        "id": "DFIuRptWdB4p"
      },
      "execution_count": null,
      "outputs": []
    }
  ]
}